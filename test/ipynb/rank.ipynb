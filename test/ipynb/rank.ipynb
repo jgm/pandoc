{
 "cells": [
  {
   "cell_type": "code",
   "execution_count": 1,
   "id": "5cf8f54d-bf3c-4db2-996d-22662a86ad43",
   "metadata": {},
   "outputs": [],
   "source": [
    "import matplotlib.pyplot as plt"
   ]
  },
  {
   "cell_type": "code",
   "execution_count": 2,
   "id": "a0228622-9ff8-4392-9ddd-f70a90f0e106",
   "metadata": {},
   "outputs": [
    {
     "data": {
      "text/html": "<p><em>you should see this when converting from ipynb to html instead of the image below.</em></p>",
      "image/png": "[encoded data removed]",
      "text/plain": [
       "<Figure size 4x4 with 1 Axes>"
      ]
     },
     "metadata": {
      "needs_background": "light"
     },
     "output_type": "display_data"
    }
   ],
   "source": [
    "fig, ax = plt.subplots(figsize=(1, 1), dpi=4)\n",
    "ax.imshow([[0, 1], [2, 3]]);"
   ]
  }
 ],
 "metadata": {
  "kernelspec": {
   "display_name": "Python 3 (ipykernel)",
   "language": "python",
   "name": "python3"
  },
  "language_info": {
   "codemirror_mode": {
    "name": "ipython",
    "version": 3
   },
   "file_extension": ".py",
   "mimetype": "text/x-python",
   "name": "python",
   "nbconvert_exporter": "python",
   "pygments_lexer": "ipython3",
   "version": "3.10.0"
  }
 },
 "nbformat": 4,
 "nbformat_minor": 5
}
